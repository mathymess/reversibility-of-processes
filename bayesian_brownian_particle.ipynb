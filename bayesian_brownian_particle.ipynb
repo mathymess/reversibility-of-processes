{
 "cells": [
  {
   "cell_type": "markdown",
   "id": "d28df1f6-3c5a-4369-8289-5da859cdc95e",
   "metadata": {},
   "source": [
    "# Bayesian prediction of Brownian particle, as in the [Nature paper](nature.com/articles/s41567-020-1018-2)"
   ]
  },
  {
   "cell_type": "code",
   "execution_count": 3,
   "id": "b0b7413e-bdc6-442b-9a0b-1464a04d4eed",
   "metadata": {},
   "outputs": [],
   "source": [
    "import matplotlib.pyplot as plt\n",
    "import numpy as np\n",
    "import torch"
   ]
  },
  {
   "cell_type": "code",
   "execution_count": 4,
   "id": "a8385e35-7570-4fef-b39c-deb0353f27f7",
   "metadata": {},
   "outputs": [],
   "source": [
    "from brownian_datagen import BrownianDatagen\n",
    "from bayesian import posterior_predictive_forward_and_backward, ExperimentResults, BayesTrainData"
   ]
  },
  {
   "cell_type": "code",
   "execution_count": 5,
   "id": "ce2b5e2b-edea-4784-bbaf-4639dd8e7d36",
   "metadata": {},
   "outputs": [],
   "source": [
    "brownian = BrownianDatagen()\n",
    "save_dir = \"20230724_preds/brownian00/\""
   ]
  },
  {
   "cell_type": "code",
   "execution_count": 6,
   "id": "06b7a757-dddc-4312-bfc3-021433ec0584",
   "metadata": {},
   "outputs": [],
   "source": [
    "meaningless_time_series = np.zeros((5, 1), np.float32)\n",
    "dt = BayesTrainData(meaningless_time_series)\n",
    "# For Brownian motion, different windows might come from different\n",
    "# trajectories, so having one single time series doesn't make sense.\n",
    "# Morover, backward and forward don't refer to the same thing anymore:\n",
    "# they are generated separately, rather than backward = np.flip(forward).\n",
    "# But I want to keep using the same class for holding the train data, so I set attributes manually.\n",
    "dt.windows_f, dt.targets_f = brownian.windows_targets(window_len=3, numParticles=50)\n",
    "dt.windows_b, dt.targets_b = brownian.windows_targets(window_len=3, backward=True, numParticles=50)\n",
    "dt.windows_f, dt.targets_f, dt.windows_b, dt.targets_b = map(\n",
    "    lambda x: torch.tensor(x, dtype=torch.float32),\n",
    "    (dt.windows_f, dt.targets_f, dt.windows_b, dt.targets_b))"
   ]
  },
  {
   "cell_type": "code",
   "execution_count": 12,
   "id": "4fe863e2-67c9-4292-8269-ea9be00c1f2b",
   "metadata": {},
   "outputs": [
    {
     "name": "stderr",
     "output_type": "stream",
     "text": [
      "Sample: 100%|████████████████████████████████████████████| 20/20 [00:01, 13.17it/s, step size=4.95e-04, acc. prob=0.374]                           \n",
      "Sample: 100%|████████████████████████████████████████████| 20/20 [00:01, 19.60it/s, step size=9.91e-04, acc. prob=0.702]                           \n"
     ]
    },
    {
     "data": {
      "text/plain": [
       "(Predictive(\n",
       "   (model): BayesianThreeFCLayers(\n",
       "     (fc1): PyroLinear(in_features=3, out_features=10, bias=True)\n",
       "     (relu1): ReLU()\n",
       "     (fc2): PyroLinear(in_features=10, out_features=10, bias=True)\n",
       "     (relu2): ReLU()\n",
       "     (fc3): PyroLinear(in_features=10, out_features=1, bias=True)\n",
       "   )\n",
       " ),\n",
       " Predictive(\n",
       "   (model): BayesianThreeFCLayers(\n",
       "     (fc1): PyroLinear(in_features=3, out_features=10, bias=True)\n",
       "     (relu1): ReLU()\n",
       "     (fc2): PyroLinear(in_features=10, out_features=10, bias=True)\n",
       "     (relu2): ReLU()\n",
       "     (fc3): PyroLinear(in_features=10, out_features=1, bias=True)\n",
       "   )\n",
       " ))"
      ]
     },
     "execution_count": 12,
     "metadata": {},
     "output_type": "execute_result"
    }
   ],
   "source": [
    "posterior_predictive_forward_and_backward(dt, save_dir=save_dir, num_samples=10)"
   ]
  },
  {
   "cell_type": "code",
   "execution_count": 7,
   "id": "d4c39db9-dbb5-4801-b0da-3099337f71df",
   "metadata": {},
   "outputs": [
    {
     "name": "stdout",
     "output_type": "stream",
     "text": [
      "noisy_ts.torch\t\t   targets_b.torch  windows_b.torch\n",
      "predictive.backward.torch  targets_f.torch  windows_f.torch\n",
      "predictive.forward.torch   ts.torch\n"
     ]
    }
   ],
   "source": [
    "!ls \"20230724_preds/brownian00/\""
   ]
  },
  {
   "cell_type": "code",
   "execution_count": 15,
   "id": "6da2cd58-fd2a-40d8-a72b-521b82176b23",
   "metadata": {},
   "outputs": [
    {
     "data": {
      "text/plain": [
       "tensor(0.2283)"
      ]
     },
     "execution_count": 15,
     "metadata": {},
     "output_type": "execute_result"
    }
   ],
   "source": [
    "er = ExperimentResults(save_dir)\n",
    "((er.pred_obs_b.mean(axis=0) - er.targets_b) ** 2).mean().sqrt()"
   ]
  }
 ],
 "metadata": {
  "kernelspec": {
   "display_name": "venv",
   "language": "python",
   "name": "venv"
  },
  "language_info": {
   "codemirror_mode": {
    "name": "ipython",
    "version": 3
   },
   "file_extension": ".py",
   "mimetype": "text/x-python",
   "name": "python",
   "nbconvert_exporter": "python",
   "pygments_lexer": "ipython3",
   "version": "3.11.3"
  }
 },
 "nbformat": 4,
 "nbformat_minor": 5
}
