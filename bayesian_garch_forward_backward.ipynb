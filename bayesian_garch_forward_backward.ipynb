{
 "cells": [
  {
   "cell_type": "markdown",
   "id": "95e59890",
   "metadata": {},
   "source": [
    "# GARCH time series, posterior predictive distributions $p(x_n | x_{n-i...}, D)$ and $p(x_{n} | x_{n+i...}, D')$"
   ]
  },
  {
   "cell_type": "code",
   "execution_count": 2,
   "id": "7856f03e",
   "metadata": {},
   "outputs": [],
   "source": [
    "import matplotlib.pyplot as plt\n",
    "import numpy as np\n",
    "import torch"
   ]
  },
  {
   "cell_type": "code",
   "execution_count": 1,
   "id": "f806cbc2",
   "metadata": {},
   "outputs": [],
   "source": [
    "from bayesian import BayesianThreeFCLayers, prepare_simple_1d_time_series\n",
    "from generate_time_series import load_garch_time_series"
   ]
  },
  {
   "cell_type": "code",
   "execution_count": null,
   "id": "21b04a87",
   "metadata": {},
   "outputs": [],
   "source": [
    "np.random.seed(43)  # Reproducible GARCH generation"
   ]
  },
  {
   "cell_type": "markdown",
   "id": "10abe235",
   "metadata": {},
   "source": [
    "## Forward"
   ]
  },
  {
   "cell_type": "code",
   "execution_count": 6,
   "id": "6b6eab75",
   "metadata": {},
   "outputs": [
    {
     "name": "stdout",
     "output_type": "stream",
     "text": [
      "torch.Size([997, 3]) torch.Size([997, 1])\n",
      "torch.Size([100, 997])\n"
     ]
    }
   ],
   "source": [
    "pred_f = torch.load(\"20230724_preds/garch01/predictive.forward.torch\")\n",
    "\n",
    "x_test_f, y_test_f = prepare_simple_1d_time_series(load_garch_time_series(1000), window_len=3)\n",
    "print(x_test_f.shape, y_test_f.shape)\n",
    "\n",
    "preds = pred_f(x_test_f)[\"obs\"]\n",
    "print(preds.shape)"
   ]
  },
  {
   "cell_type": "code",
   "execution_count": 12,
   "id": "c6d22280",
   "metadata": {},
   "outputs": [
    {
     "data": {
      "text/plain": [
       "tensor(654.0129)"
      ]
     },
     "execution_count": 12,
     "metadata": {},
     "output_type": "execute_result"
    }
   ],
   "source": [
    "torch.nn.MSELoss()(preds.mean(axis=0), y_test_f.squeeze())"
   ]
  },
  {
   "cell_type": "code",
   "execution_count": 13,
   "id": "8818597c",
   "metadata": {},
   "outputs": [
    {
     "data": {
      "text/plain": [
       "tensor(38.0849)"
      ]
     },
     "execution_count": 13,
     "metadata": {},
     "output_type": "execute_result"
    }
   ],
   "source": [
    "preds.std(axis=0).mean()"
   ]
  },
  {
   "cell_type": "markdown",
   "id": "10eb7728",
   "metadata": {},
   "source": [
    "## Backward"
   ]
  },
  {
   "cell_type": "code",
   "execution_count": 8,
   "id": "6b682cd7",
   "metadata": {},
   "outputs": [
    {
     "name": "stdout",
     "output_type": "stream",
     "text": [
      "torch.Size([997, 3]) torch.Size([997, 1])\n",
      "torch.Size([100, 997])\n"
     ]
    }
   ],
   "source": [
    "pred_f = torch.load(\"20230724_preds/garch01/predictive.forward.torch\")\n",
    "\n",
    "x_test_f, y_test_f = prepare_simple_1d_time_series(load_garch_time_series(1000), window_len=3, reverse=True)\n",
    "print(x_test_f.shape, y_test_f.shape)\n",
    "\n",
    "preds = pred_f(x_test_f)[\"obs\"]\n",
    "print(preds.shape)"
   ]
  }
 ],
 "metadata": {
  "kernelspec": {
   "display_name": "venv",
   "language": "python",
   "name": "venv"
  },
  "language_info": {
   "codemirror_mode": {
    "name": "ipython",
    "version": 3
   },
   "file_extension": ".py",
   "mimetype": "text/x-python",
   "name": "python",
   "nbconvert_exporter": "python",
   "pygments_lexer": "ipython3",
   "version": "3.11.3"
  }
 },
 "nbformat": 4,
 "nbformat_minor": 5
}
