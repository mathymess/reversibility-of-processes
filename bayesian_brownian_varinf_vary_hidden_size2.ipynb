{
 "cells": [
  {
   "cell_type": "markdown",
   "id": "5a5400a4-e6dc-45ed-8e27-9f1322060595",
   "metadata": {},
   "source": [
    "# We vary the capacity of the Bayesian model by changing `hidden_size` parameter, trying to predict the brownian trajectories with a lot of noise."
   ]
  },
  {
   "cell_type": "code",
   "execution_count": null,
   "id": "3b93d07f-e1dc-4748-aaba-1e4434952526",
   "metadata": {},
   "outputs": [],
   "source": [
    "import os\n",
    "\n",
    "import matplotlib.pyplot as plt\n",
    "import numpy as np\n",
    "import torch"
   ]
  },
  {
   "cell_type": "code",
   "execution_count": null,
   "id": "1b335f31-2024-4c93-b444-cf43a4798508",
   "metadata": {},
   "outputs": [],
   "source": [
    "from brownian_datagen import BrownianDatagen, create_dataholder_for_windows_and_targets\n",
    "from bayesian import BayesTrainData\n",
    "from bayesian_varinf import train_fb_n_times, load_learning_curves"
   ]
  },
  {
   "cell_type": "code",
   "execution_count": null,
   "id": "1125a45e-ec5e-4ebc-b3d1-74b0a1d92755",
   "metadata": {
    "scrolled": true
   },
   "outputs": [],
   "source": [
    "def get_save_dir_prefix(hidden_size: int) -> str:\n",
    "    save_dir_prefix = \"20230724_preds/brownian_varinf_hidden_size_noisy/\"\n",
    "    return os.path.join(save_dir_prefix, f\"hidden_size={hidden_size:02}/\")"
   ]
  },
  {
   "cell_type": "code",
   "execution_count": null,
   "id": "7706c3af-3873-456d-833b-2271e299c820",
   "metadata": {},
   "outputs": [],
   "source": [
    "brownian = BrownianDatagen(kBT=1., γ=1., k=1., λ_τ=5., τ=10.)\n",
    "dt = create_dataholder_for_windows_and_targets(brownian, numParticles=50, rng_seed=42)\n",
    "brownian.visualize()"
   ]
  },
  {
   "cell_type": "code",
   "execution_count": null,
   "id": "2a11d40c-379b-4777-9caf-d7119d7be965",
   "metadata": {},
   "outputs": [],
   "source": [
    "num_gpus = torch.cuda.device_count()\n",
    "if num_gpus > 0:\n",
    "    print(f\"Number of available GPUs: {num_gpus}\")\n",
    "    for i in range(num_gpus):\n",
    "        print(f\"GPU {i}\")\n",
    "    assert torch.cuda.is_available()\n",
    "else:\n",
    "    print(\"No GPUs available. Using CPU.\")\n",
    "    assert not torch.cuda.is_available()"
   ]
  },
  {
   "cell_type": "code",
   "execution_count": null,
   "id": "b7de1fca-07b7-40de-8fcb-b6ba495b5901",
   "metadata": {},
   "outputs": [],
   "source": [
    "for hidden_size in (2, 4, 6, 8, 11, 16):\n",
    "    save_dir_prefix = get_save_dir_prefix(hidden_size)\n",
    "    if not os.path.isdir(save_dir_prefix):\n",
    "        train_fb_n_times(dt,\n",
    "            num_runs=100,\n",
    "            hidden_size=hidden_size,\n",
    "            num_epochs=4000,\n",
    "            save_metrics_every_n_epochs=100,\n",
    "            train_test_split_ratio=None,\n",
    "            save_dir_prefix=save_dir_prefix,\n",
    "            torch_device=\"cuda:1\" if torch.cuda.is_available() else None)\n",
    "    else:\n",
    "        print(f\"Directory '{save_dir_prefix}' exists, assuming the previous results are reusable\")"
   ]
  }
 ],
 "metadata": {
  "kernelspec": {
   "display_name": "venv",
   "language": "python",
   "name": "venv"
  },
  "language_info": {
   "codemirror_mode": {
    "name": "ipython",
    "version": 3
   },
   "file_extension": ".py",
   "mimetype": "text/x-python",
   "name": "python",
   "nbconvert_exporter": "python",
   "pygments_lexer": "ipython3",
   "version": "3.11.5"
  }
 },
 "nbformat": 4,
 "nbformat_minor": 5
}
