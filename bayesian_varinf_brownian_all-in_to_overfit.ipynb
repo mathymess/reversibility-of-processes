{
 "cells": [
  {
   "cell_type": "markdown",
   "id": "74cb0e23-c8e6-4370-ba0d-897e01e7cbf2",
   "metadata": {},
   "source": [
    "## As the size of the BNN model grows, we expect it to overfit and detect a difference between two very similar datasets, both of a brownian particle moving \"forward\".\n",
    "## We're going all-in in attempt to overfit the model: hidden_size to 100, smaller dataset, more epochs than in `bayesian_brownian_varinf_discriminate_identical_forward.ipynb`"
   ]
  },
  {
   "cell_type": "code",
   "execution_count": null,
   "id": "0116c13b-ead1-412c-9e3f-6effc33888fe",
   "metadata": {},
   "outputs": [],
   "source": [
    "import os\n",
    "\n",
    "import matplotlib.pyplot as plt\n",
    "import numpy as np\n",
    "import torch"
   ]
  },
  {
   "cell_type": "code",
   "execution_count": null,
   "id": "48998a62-1238-4a49-a1ec-065e45c94af2",
   "metadata": {},
   "outputs": [],
   "source": [
    "from brownian_datagen import BrownianDatagen, create_dataholder_forward_same_as_backward\n",
    "from bayesian_varinf import train_fb_n_times, load_learning_curves"
   ]
  },
  {
   "cell_type": "code",
   "execution_count": null,
   "id": "14b42e94-3da2-4b08-b4f3-9dc75ad204db",
   "metadata": {},
   "outputs": [],
   "source": [
    "save_dir_prefix = \"20230724_preds/brownian_varinf_discriminate_identical_overfit_nonoise/\"\n",
    "\n",
    "brownian = BrownianDatagen(kBT=0.03, γ=1., k=1., λ_τ=5., τ=10.)\n",
    "dt = create_dataholder_forward_same_as_backward(brownian, numParticles=30,\n",
    "                                                rng_seed1=42, rng_seed2=43)\n",
    "\n",
    "if not os.path.isdir(save_dir_prefix):\n",
    "    train_fb_n_times(dt,\n",
    "        num_runs=40,\n",
    "        hidden_size=100,\n",
    "        num_epochs=10000,\n",
    "        save_metrics_every_n_epochs=100,\n",
    "        train_test_split_ratio=None,\n",
    "        save_dir_prefix=save_dir_prefix,\n",
    "        torch_device=\"cuda:0\" if torch.cuda.is_available() else None)\n",
    "else:\n",
    "    print(f\"Directory '{save_dir_prefix}' exists, assuming the previous results are reusable\")"
   ]
  },
  {
   "cell_type": "markdown",
   "id": "62d3902a-e8e9-4eb1-8433-27f267f40335",
   "metadata": {},
   "source": [
    "## Same but with much more noise"
   ]
  },
  {
   "cell_type": "code",
   "execution_count": null,
   "id": "20475f90-9c90-4942-a78c-ccb2e4f65836",
   "metadata": {},
   "outputs": [],
   "source": [
    "save_dir_prefix = \"20230724_preds/brownian_varinf_discriminate_identical_overfit_noisy/\"\n",
    "\n",
    "brownian = BrownianDatagen(kBT=1., γ=1., k=1., λ_τ=5., τ=10.)\n",
    "dt = create_dataholder_forward_same_as_backward(brownian, numParticles=30,\n",
    "                                                rng_seed1=42, rng_seed2=43)\n",
    "\n",
    "if not os.path.isdir(save_dir_prefix):\n",
    "    train_fb_n_times(dt,\n",
    "        num_runs=40,\n",
    "        hidden_size=100,\n",
    "        num_epochs=10000,\n",
    "        save_metrics_every_n_epochs=100,\n",
    "        train_test_split_ratio=None,\n",
    "        save_dir_prefix=save_dir_prefix,\n",
    "        torch_device=\"cuda:0\" if torch.cuda.is_available() else None)\n",
    "else:\n",
    "    print(f\"Directory '{save_dir_prefix}' exists, assuming the previous results are reusable\")"
   ]
  }
 ],
 "metadata": {
  "kernelspec": {
   "display_name": "venv",
   "language": "python",
   "name": "venv"
  },
  "language_info": {
   "codemirror_mode": {
    "name": "ipython",
    "version": 3
   },
   "file_extension": ".py",
   "mimetype": "text/x-python",
   "name": "python",
   "nbconvert_exporter": "python",
   "pygments_lexer": "ipython3",
   "version": "3.11.5"
  }
 },
 "nbformat": 4,
 "nbformat_minor": 5
}
