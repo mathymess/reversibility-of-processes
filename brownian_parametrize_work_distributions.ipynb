{
 "cells": [
  {
   "cell_type": "markdown",
   "id": "ce36badc-b34f-4440-81b1-b328489d262b",
   "metadata": {},
   "source": [
    "# For the brownian particle from the [Nature paper](https://www.nature.com/articles/s41567-020-1018-2), does time asymetry with the distance between work distributions?  "
   ]
  },
  {
   "cell_type": "markdown",
   "id": "fed8144f-cca7-4dff-9aa0-5bce6f18cc04",
   "metadata": {},
   "source": [
    "## To answer that, let's first parametrize brownian particle in such a way that allows us to control the distance between forward and backward work distributions directly"
   ]
  },
  {
   "cell_type": "code",
   "execution_count": null,
   "id": "e72fcb28-baee-4da3-9bc2-234879c93c01",
   "metadata": {},
   "outputs": [],
   "source": [
    "from scipy.stats import wasserstein_distance\n",
    "import matplotlib.pyplot as plt\n",
    "import numpy as np"
   ]
  },
  {
   "cell_type": "code",
   "execution_count": null,
   "id": "3205f30c-3c72-4fa9-8986-32f656823f11",
   "metadata": {},
   "outputs": [],
   "source": [
    "from brownian_datagen import BrownianDatagen"
   ]
  },
  {
   "cell_type": "code",
   "execution_count": null,
   "id": "ee267393-76ea-42ae-8fbe-d4efdd37c0b0",
   "metadata": {},
   "outputs": [],
   "source": [
    "def work_distribution_distance(b: BrownianDatagen) -> float:\n",
    "    _, work_f = b.generate(numParticles=10000)\n",
    "    _, work_b = b.generate(numParticles=10000, backward=True)\n",
    "    return wasserstein_distance(work_f, work_b)\n",
    "\n",
    "def work_distribution_meandiff(b: BrownianDatagen) -> float:\n",
    "    _, work_f = b.generate(numParticles=10000)\n",
    "    _, work_b = b.generate(numParticles=10000, backward=True)\n",
    "    return work_f.mean() - work_b.mean()\n",
    "\n",
    "def plot_work_distribution_histograms(b: BrownianDatagen, bins: int = 30) -> None:\n",
    "    _, work_f = b.generate(numParticles=10000)\n",
    "    _, work_b = b.generate(numParticles=10000, backward=True)\n",
    "\n",
    "    fig, ax = plt.subplots()\n",
    "    \n",
    "    ax.set_title(\"Work distributions\")\n",
    "    ax.hist(work_f, bins=bins, color=\"red\", label=\"forward\", alpha=0.5)\n",
    "    ax.hist(work_b, bins=bins, color=\"blue\", label=\"backward\", alpha=0.5)\n",
    "    ax.grid()\n",
    "    ax.legend()\n",
    "\n",
    "    return fig, ax"
   ]
  },
  {
   "cell_type": "code",
   "execution_count": null,
   "id": "d27d829e-0364-4f13-897a-be1305a395ad",
   "metadata": {},
   "outputs": [],
   "source": [
    "for gamma in [1, 2, 5, 10, 20, 30]:\n",
    "    b = BrownianDatagen(kBT=0.1, γ=gamma, k=2, λ_τ=5., τ=10.)\n",
    "    b.visualize(landscape_layout=True)"
   ]
  },
  {
   "cell_type": "markdown",
   "id": "724d1568-adde-4f8f-ac5c-f1c3504e6206",
   "metadata": {},
   "source": [
    "## We see that the $\\gamma$ parameter, the friction coefficient aka damping rate, is responsible for the separation between the forward and backward work distributions. The distributions move away from each other as $\\gamma$ increases.\n",
    "## Let's see if difference in loss forward and backward prediction (our time asymmetry metric) increases with $\\gamma$ "
   ]
  },
  {
   "cell_type": "code",
   "execution_count": null,
   "id": "15c9b5e5-a611-4218-8d3b-62cac3d0106f",
   "metadata": {},
   "outputs": [],
   "source": [
    "import os\n",
    "import torch"
   ]
  },
  {
   "cell_type": "code",
   "execution_count": null,
   "id": "9f0bd4a1-920e-4eea-b6f3-b4053872c5e9",
   "metadata": {},
   "outputs": [],
   "source": [
    "from brownian_datagen import create_dataholder_for_windows_and_targets\n",
    "from bayesian_varinf import train_fb_n_times, load_learning_curves"
   ]
  },
  {
   "cell_type": "code",
   "execution_count": null,
   "id": "d4ad4628-a182-481b-965f-1c49766bf84c",
   "metadata": {},
   "outputs": [],
   "source": [
    "def get_save_dir_prefix(gamma: float) -> str:\n",
    "    save_dir_prefix = \"20230724_preds/brownian_varinf_vary_gamma/\"\n",
    "    return os.path.join(save_dir_prefix, f\"gamma={gamma:.03f}/\")\n",
    "\n",
    "gamma_grid = (1., 2., 5., 10., 20., 30.)"
   ]
  },
  {
   "cell_type": "code",
   "execution_count": null,
   "id": "dec0ef7c-c4d6-4667-97d8-52aa2a1dec32",
   "metadata": {},
   "outputs": [],
   "source": [
    "print(\"values for gamma:\", gamma_grid)\n",
    "for gamma in gamma_grid:\n",
    "    print(f\"gamma={gamma}/\")\n",
    "    brownian = BrownianDatagen(kBT=0.1, γ=gamma, k=2., λ_τ=5., τ=10.)\n",
    "    dt = create_dataholder_for_windows_and_targets(brownian, numParticles=30,\n",
    "                                                   window_len=6, # NEW WINDOW_LEN!\n",
    "                                                   rng_seed=42)\n",
    "\n",
    "    save_dir_prefix = get_save_dir_prefix(gamma)\n",
    "    train_fb_n_times(dt, num_runs=30,\n",
    "                 num_epochs=4000, save_metrics_every_n_epochs=100,\n",
    "                 hidden_size=10, train_test_split_ratio=0.5,\n",
    "                 save_dir_prefix=save_dir_prefix)"
   ]
  }
 ],
 "metadata": {
  "kernelspec": {
   "display_name": "venv",
   "language": "python",
   "name": "venv"
  },
  "language_info": {
   "codemirror_mode": {
    "name": "ipython",
    "version": 3
   },
   "file_extension": ".py",
   "mimetype": "text/x-python",
   "name": "python",
   "nbconvert_exporter": "python",
   "pygments_lexer": "ipython3",
   "version": "3.11.5"
  }
 },
 "nbformat": 4,
 "nbformat_minor": 5
}
