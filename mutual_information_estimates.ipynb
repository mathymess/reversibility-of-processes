{
 "cells": [
  {
   "cell_type": "markdown",
   "id": "9b98d204",
   "metadata": {},
   "source": [
    "# Mutual information estimates"
   ]
  },
  {
   "cell_type": "code",
   "execution_count": 1,
   "id": "09e00fd9",
   "metadata": {},
   "outputs": [],
   "source": [
    "# Custom code imports\n",
    "from generate_time_series import (load_two_body_problem_time_series,\n",
    "                                  load_belousov_zhabotinsky_time_series,\n",
    "                                  load_lorenz_attractor_time_series)\n",
    "\n",
    "from datasets import (chop_time_series_into_chunks,\n",
    "                      split_chunks_into_windows_and_targets)"
   ]
  },
  {
   "cell_type": "code",
   "execution_count": 2,
   "id": "4aa5d759",
   "metadata": {},
   "outputs": [],
   "source": [
    "# Standard code imports\n",
    "import numpy as np\n",
    "import functools \n",
    "\n",
    "from typing import Tuple, Optional\n",
    "import numpy.typing\n",
    "NDArray = numpy.typing.NDArray[np.floating]"
   ]
  },
  {
   "cell_type": "code",
   "execution_count": 3,
   "id": "3446fdae",
   "metadata": {},
   "outputs": [],
   "source": [
    "# Helpers\n",
    "def time_series_2_windows_and_targets(time_series: NDArray,\n",
    "                                      window_len: int = 10,\n",
    "                                      target_len: int = 1,\n",
    "                                      reverse: bool = False) -> Tuple[NDArray, NDArray]:\n",
    "    chunks = chop_time_series_into_chunks(time_series,\n",
    "                                          chunk_len=window_len+target_len,\n",
    "                                          reverse=reverse,\n",
    "                                          take_each_nth_chunk=3)\n",
    "    windows, targets = split_chunks_into_windows_and_targets(chunks, target_len=target_len)\n",
    "    return windows, targets\n",
    "\n",
    "\n",
    "def flatten_last_dim(array: NDArray) -> NDArray:\n",
    "    assert array.ndim >= 2\n",
    "    return array.reshape((*array.shape[:-2], -1))"
   ]
  },
  {
   "cell_type": "markdown",
   "id": "d9b999ef",
   "metadata": {},
   "source": [
    "## `sklearn.feature_selection.mutual_info_regression`"
   ]
  },
  {
   "cell_type": "code",
   "execution_count": 4,
   "id": "37c4f93e",
   "metadata": {},
   "outputs": [],
   "source": [
    "# # This function only works with discrete inputs (handy for categorization/clusterization).\n",
    "# # It is unusable for the float (continuous) vectors we are dealing with here.\n",
    "# from sklearn.metrics import mutual_info_score"
   ]
  },
  {
   "cell_type": "code",
   "execution_count": 5,
   "id": "702a0949",
   "metadata": {},
   "outputs": [],
   "source": [
    "# See https://www.blog.trainindata.com/mutual-information-with-python/\n",
    "from sklearn.feature_selection import mutual_info_regression"
   ]
  },
  {
   "cell_type": "code",
   "execution_count": 6,
   "id": "14761608",
   "metadata": {},
   "outputs": [],
   "source": [
    "def calculate_mutual_info_for_dataset(ts: NDArray, dim: int = 0) -> Tuple[NDArray, NDArray]:\n",
    "    assert 0 <= dim < ts.shape[1]\n",
    "\n",
    "    forward_windows, forward_targets = time_series_2_windows_and_targets(ts)\n",
    "    backward_windows, backward_targets = time_series_2_windows_and_targets(ts, reverse=True)\n",
    "\n",
    "    # Each window or target is two-dimensional. I extract just one dimension\n",
    "    backward_windows = backward_windows[:, :, dim]\n",
    "    forward_windows = forward_windows[:, :, dim]\n",
    "    # ... and assume target_len=1, so take the 0-th point in target.\n",
    "    forward_targets = forward_targets[:, 0, dim]\n",
    "    backward_targets = backward_targets[:, 0, dim]\n",
    "    # Note: `mutual_info_regression` only accepts 1-dimensional y's.\n",
    "    # So I'm forced to pick only one dimension from targets, although I could\n",
    "    # flatten the windows instead of extracting one dimension from it.\n",
    "\n",
    "    return (mutual_info_regression(forward_windows, forward_targets),\n",
    "            mutual_info_regression(backward_windows, backward_targets))"
   ]
  },
  {
   "cell_type": "code",
   "execution_count": 7,
   "id": "320978c5",
   "metadata": {},
   "outputs": [],
   "source": [
    "def print_mutual_info(ts: NDArray, comment: str) -> None:\n",
    "    forward, backward = calculate_mutual_info_for_dataset(ts)\n",
    "    print(comment, \"forward\", forward)\n",
    "    print(comment, \"backward\", backward)"
   ]
  },
  {
   "cell_type": "code",
   "execution_count": 8,
   "id": "b5752905",
   "metadata": {},
   "outputs": [
    {
     "name": "stdout",
     "output_type": "stream",
     "text": [
      "kepler forward [4.1544507  4.1679777  4.19014217 4.23306892 4.40380346 4.52204556\n",
      " 4.6513439  4.83707335 5.07009635 5.38225062]\n",
      "kepler backward [4.1544507  4.16829816 4.19438907 4.23299843 4.40411548 4.52240252\n",
      " 4.65179145 4.83874348 5.06217402 5.38334711]\n",
      "\n",
      "belousov_zhabotinsky forward [5.10297078 5.11591333 5.12894595 5.15271997 5.25902738 5.40578542\n",
      " 5.4406048  5.4858174  5.54904934 5.63826422]\n",
      "belousov_zhabotinsky backward [5.10354369 5.11591333 5.12937203 5.1472664  5.22999303 5.39968754\n",
      " 5.42965822 5.47702134 5.53905855 5.6281999 ]\n",
      "\n",
      "lorenz forward [1.10491599 1.18068127 1.28136143 1.39081549 1.52221169 1.68715116\n",
      " 1.89150051 2.17183271 2.57736067 3.26623382]\n",
      "lorenz backward [1.10105144 1.18418257 1.28136143 1.38803675 1.51959223 1.68800725\n",
      " 1.90041139 2.17751784 2.57858673 3.25964205]\n"
     ]
    }
   ],
   "source": [
    "print_mutual_info(load_two_body_problem_time_series(), \"kepler\")\n",
    "print()\n",
    "print_mutual_info(load_belousov_zhabotinsky_time_series(), \"belousov_zhabotinsky\")\n",
    "print()\n",
    "print_mutual_info(load_lorenz_attractor_time_series(), \"lorenz\")"
   ]
  },
  {
   "cell_type": "markdown",
   "id": "ef1d40ce",
   "metadata": {},
   "source": [
    "The numbers are about the same, within reasonable accuracy, for `forward` and `backward`.\n",
    "This is not what we expect."
   ]
  },
  {
   "cell_type": "markdown",
   "id": "3cb0ccc1",
   "metadata": {},
   "source": [
    "## gregversteeg/NPEET"
   ]
  },
  {
   "cell_type": "code",
   "execution_count": 9,
   "id": "e9424456",
   "metadata": {},
   "outputs": [
    {
     "name": "stdout",
     "output_type": "stream",
     "text": [
      "Cloning into 'NPEET'...\n",
      "remote: Enumerating objects: 129, done.\u001b[K\n",
      "remote: Counting objects: 100% (42/42), done.\u001b[K\n",
      "remote: Compressing objects: 100% (22/22), done.\u001b[K\n",
      "remote: Total 129 (delta 21), reused 35 (delta 19), pack-reused 87\u001b[K\n",
      "Receiving objects: 100% (129/129), 317.14 KiB | 3.82 MiB/s, done.\n",
      "Resolving deltas: 100% (55/55), done.\n"
     ]
    }
   ],
   "source": [
    "# Install the module from GitHub\n",
    "!git clone https://github.com/gregversteeg/NPEET.git\n",
    "#!rm -rf NPEET"
   ]
  },
  {
   "cell_type": "code",
   "execution_count": 10,
   "id": "d13acdd6",
   "metadata": {},
   "outputs": [],
   "source": [
    "# The module's suggested installation method doesn't work,\n",
    "# so we just find the right source file in the directory tree.\n",
    "from NPEET.npeet import entropy_estimators"
   ]
  },
  {
   "cell_type": "code",
   "execution_count": 11,
   "id": "6fd0a662",
   "metadata": {},
   "outputs": [],
   "source": [
    "def calculate_mutual_info_for_dataset(ts: NDArray,\n",
    "                                      window_len: int,\n",
    "                                      target_len: int,\n",
    "                                      project_on_coordinate: Optional[int] = None) -> Tuple[float, float]:\n",
    "    forward_windows, forward_targets = time_series_2_windows_and_targets(ts, window_len=window_len,\n",
    "                                                                         target_len=target_len)\n",
    "    backward_windows, backward_targets = time_series_2_windows_and_targets(ts, window_len=window_len,\n",
    "                                                                           target_len=target_len, reverse=True)\n",
    "    \n",
    "    if project_on_coordinate is None:\n",
    "        # Each window or target is two-dimensional, so I flatten them.\n",
    "        backward_windows = flatten_last_dim(backward_windows)\n",
    "        forward_windows = flatten_last_dim(forward_windows)\n",
    "        backward_targets = flatten_last_dim(backward_targets)\n",
    "        forward_targets = flatten_last_dim(forward_targets)\n",
    "    else:\n",
    "        assert project_on_coordinate < ts.shape[1], \"Index too large\"\n",
    "        \n",
    "        backward_windows = backward_windows[:, :, project_on_coordinate]\n",
    "        forward_windows = forward_windows[:, :, project_on_coordinate]\n",
    "        backward_targets = backward_targets[:, :, project_on_coordinate]\n",
    "        forward_targets = forward_targets[:, :, project_on_coordinate]\n",
    "    \n",
    "    return (entropy_estimators.mi(forward_windows, forward_targets),\n",
    "            entropy_estimators.mi(backward_windows, backward_targets))\n",
    "\n",
    "def apply_mi_over_len_grid(ts: NDArray, **kwargs) -> None:\n",
    "    print(\"window+target: (backward - forward) / forward\")\n",
    "    for window_len in [3, 5, 10, 15]:\n",
    "        for target_len in [1, 3, 5]:\n",
    "            forward, backward = calculate_mutual_info_for_dataset(ts=ts,\n",
    "                                                                  window_len=window_len,\n",
    "                                                                  target_len=target_len,\n",
    "                                                                  **kwargs)\n",
    "            # Print relative difference between backward and forward.\n",
    "            print(f\"{window_len}+{target_len}:\\t{(backward - forward) / forward:.2e}\")"
   ]
  },
  {
   "cell_type": "code",
   "execution_count": 12,
   "id": "2439e1c5",
   "metadata": {},
   "outputs": [
    {
     "name": "stdout",
     "output_type": "stream",
     "text": [
      "window+target: (backward - forward) / forward\n",
      "3+1:\t-5.47e-05\n",
      "3+3:\t2.16e-16\n",
      "3+5:\t-5.48e-05\n",
      "5+1:\t0.00e+00\n",
      "5+3:\t5.48e-05\n",
      "5+5:\t5.49e-05\n",
      "10+1:\t-3.26e-03\n",
      "10+3:\t-3.28e-03\n",
      "10+5:\t-3.23e-03\n",
      "15+1:\t-3.11e-03\n",
      "15+3:\t-3.12e-03\n",
      "15+5:\t-3.10e-03\n"
     ]
    }
   ],
   "source": [
    "apply_mi_over_len_grid(load_two_body_problem_time_series())"
   ]
  },
  {
   "cell_type": "code",
   "execution_count": 13,
   "id": "270395e0",
   "metadata": {},
   "outputs": [
    {
     "name": "stdout",
     "output_type": "stream",
     "text": [
      "window+target: (backward - forward) / forward\n",
      "3+1:\t-2.43e-04\n",
      "3+3:\t-5.12e-04\n",
      "3+5:\t1.61e-04\n",
      "5+1:\t-6.92e-04\n",
      "5+3:\t-9.65e-04\n",
      "5+5:\t0.00e+00\n",
      "10+1:\t-1.17e-03\n",
      "10+3:\t-1.98e-03\n",
      "10+5:\t-1.43e-03\n",
      "15+1:\t-4.15e-03\n",
      "15+3:\t-4.15e-03\n",
      "15+5:\t-3.57e-03\n"
     ]
    }
   ],
   "source": [
    "apply_mi_over_len_grid(load_lorenz_attractor_time_series())"
   ]
  },
  {
   "cell_type": "code",
   "execution_count": 14,
   "id": "2f431f29",
   "metadata": {},
   "outputs": [
    {
     "name": "stdout",
     "output_type": "stream",
     "text": [
      "window+target: (backward - forward) / forward\n",
      "3+1:\t7.46e-04\n",
      "3+3:\t3.03e-04\n",
      "3+5:\t-2.84e-05\n",
      "5+1:\t7.33e-04\n",
      "5+3:\t8.27e-04\n",
      "5+5:\t-1.51e-04\n",
      "10+1:\t1.71e-02\n",
      "10+3:\t1.68e-02\n",
      "10+5:\t1.57e-02\n",
      "15+1:\t1.69e-02\n",
      "15+3:\t1.73e-02\n",
      "15+5:\t1.75e-02\n"
     ]
    }
   ],
   "source": [
    "apply_mi_over_len_grid(load_belousov_zhabotinsky_time_series())"
   ]
  },
  {
   "cell_type": "code",
   "execution_count": 15,
   "id": "8583da18",
   "metadata": {},
   "outputs": [
    {
     "name": "stdout",
     "output_type": "stream",
     "text": [
      "window+target: (backward - forward) / forward\n",
      "3+1:\t-1.20e+00\n",
      "3+3:\t-1.19e+00\n",
      "3+5:\t-1.27e-01\n",
      "5+1:\t1.62e-01\n",
      "5+3:\t-6.96e-01\n",
      "5+5:\t-3.52e-03\n",
      "10+1:\t3.36e+00\n",
      "10+3:\t-7.63e-01\n",
      "10+5:\t-4.18e-01\n",
      "15+1:\t4.85e-02\n",
      "15+3:\t-3.85e-02\n",
      "15+5:\t8.68e-01\n"
     ]
    }
   ],
   "source": [
    "# Let's try to apply it to random noise\n",
    "apply_mi_over_len_grid(np.random.normal(loc=1, scale=1, size=(4000, 3)))"
   ]
  },
  {
   "cell_type": "markdown",
   "id": "62072563",
   "metadata": {},
   "source": [
    "### So far, nothing interpretable as a trend. Let's try projecting to have only one coordinate instead of flattening, which could have destroyed the distribution-based magic."
   ]
  },
  {
   "cell_type": "code",
   "execution_count": 16,
   "id": "09ff5b62",
   "metadata": {},
   "outputs": [
    {
     "name": "stdout",
     "output_type": "stream",
     "text": [
      "window+target: (backward - forward) / forward\n",
      "3+1:\t1.92e-04\n",
      "3+3:\t1.00e-03\n",
      "3+5:\t-4.05e-03\n",
      "5+1:\t1.08e-02\n",
      "5+3:\t4.06e-03\n",
      "5+5:\t1.37e-03\n",
      "10+1:\t-1.08e-02\n",
      "10+3:\t-1.60e-02\n",
      "10+5:\t-2.00e-02\n",
      "15+1:\t-1.13e-02\n",
      "15+3:\t-1.73e-02\n",
      "15+5:\t-2.04e-02\n"
     ]
    }
   ],
   "source": [
    "apply_mi_over_len_grid(load_two_body_problem_time_series(), project_on_coordinate=0)"
   ]
  },
  {
   "cell_type": "code",
   "execution_count": 17,
   "id": "925c2c36",
   "metadata": {},
   "outputs": [
    {
     "name": "stdout",
     "output_type": "stream",
     "text": [
      "window+target: (backward - forward) / forward\n",
      "3+1:\t2.47e-03\n",
      "3+3:\t-9.48e-04\n",
      "3+5:\t3.98e-03\n",
      "5+1:\t-9.91e-03\n",
      "5+3:\t-3.96e-03\n",
      "5+5:\t-5.70e-04\n",
      "10+1:\t4.21e-03\n",
      "10+3:\t6.60e-03\n",
      "10+5:\t1.06e-02\n",
      "15+1:\t4.02e-03\n",
      "15+3:\t6.96e-03\n",
      "15+5:\t1.05e-02\n"
     ]
    }
   ],
   "source": [
    "apply_mi_over_len_grid(load_two_body_problem_time_series(), project_on_coordinate=1)"
   ]
  },
  {
   "cell_type": "code",
   "execution_count": 18,
   "id": "da12ba55",
   "metadata": {},
   "outputs": [
    {
     "name": "stdout",
     "output_type": "stream",
     "text": [
      "window+target: (backward - forward) / forward\n",
      "3+1:\t2.16e-03\n",
      "3+3:\t4.31e-03\n",
      "3+5:\t-2.30e-03\n",
      "5+1:\t-2.33e-05\n",
      "5+3:\t-3.80e-04\n",
      "5+5:\t0.00e+00\n",
      "10+1:\t1.38e-03\n",
      "10+3:\t1.84e-03\n",
      "10+5:\t-6.66e-04\n",
      "15+1:\t3.19e-03\n",
      "15+3:\t1.34e-04\n",
      "15+5:\t4.99e-04\n"
     ]
    }
   ],
   "source": [
    "apply_mi_over_len_grid(load_lorenz_attractor_time_series(), project_on_coordinate=0)"
   ]
  },
  {
   "cell_type": "code",
   "execution_count": 19,
   "id": "d804340e",
   "metadata": {},
   "outputs": [
    {
     "name": "stdout",
     "output_type": "stream",
     "text": [
      "window+target: (backward - forward) / forward\n",
      "3+1:\t-4.00e-03\n",
      "3+3:\t-3.44e-03\n",
      "3+5:\t2.24e-04\n",
      "5+1:\t-4.72e-03\n",
      "5+3:\t1.72e-03\n",
      "5+5:\t-1.14e-05\n",
      "10+1:\t-1.86e-03\n",
      "10+3:\t3.18e-04\n",
      "10+5:\t-1.67e-03\n",
      "15+1:\t2.74e-03\n",
      "15+3:\t-2.42e-04\n",
      "15+5:\t-1.30e-03\n"
     ]
    }
   ],
   "source": [
    "apply_mi_over_len_grid(load_lorenz_attractor_time_series(), project_on_coordinate=1)"
   ]
  },
  {
   "cell_type": "code",
   "execution_count": 20,
   "id": "68ab0ca5",
   "metadata": {},
   "outputs": [
    {
     "name": "stdout",
     "output_type": "stream",
     "text": [
      "window+target: (backward - forward) / forward\n",
      "3+1:\t5.41e-04\n",
      "3+3:\t1.44e-03\n",
      "3+5:\t3.51e-03\n",
      "5+1:\t-1.49e-03\n",
      "5+3:\t-1.08e-03\n",
      "5+5:\t0.00e+00\n",
      "10+1:\t-3.79e-03\n",
      "10+3:\t-3.50e-03\n",
      "10+5:\t-2.86e-03\n",
      "15+1:\t-7.97e-03\n",
      "15+3:\t-3.88e-03\n",
      "15+5:\t-2.65e-03\n"
     ]
    }
   ],
   "source": [
    "apply_mi_over_len_grid(load_lorenz_attractor_time_series(), project_on_coordinate=2)"
   ]
  },
  {
   "cell_type": "code",
   "execution_count": 21,
   "id": "bb9b54f5",
   "metadata": {},
   "outputs": [
    {
     "name": "stdout",
     "output_type": "stream",
     "text": [
      "window+target: (backward - forward) / forward\n",
      "3+1:\t2.58e-03\n",
      "3+3:\t-5.06e-05\n",
      "3+5:\t-6.88e-04\n",
      "5+1:\t3.43e-03\n",
      "5+3:\t9.75e-04\n",
      "5+5:\t1.05e-04\n",
      "10+1:\t-2.43e-02\n",
      "10+3:\t-2.94e-02\n",
      "10+5:\t-3.15e-02\n",
      "15+1:\t-2.46e-02\n",
      "15+3:\t-2.95e-02\n",
      "15+5:\t-3.13e-02\n"
     ]
    }
   ],
   "source": [
    "apply_mi_over_len_grid(load_belousov_zhabotinsky_time_series(), project_on_coordinate=0)"
   ]
  },
  {
   "cell_type": "code",
   "execution_count": 22,
   "id": "f952e7aa",
   "metadata": {},
   "outputs": [
    {
     "name": "stdout",
     "output_type": "stream",
     "text": [
      "window+target: (backward - forward) / forward\n",
      "3+1:\t3.67e-04\n",
      "3+3:\t2.15e-04\n",
      "3+5:\t-5.92e-04\n",
      "5+1:\t1.49e-03\n",
      "5+3:\t1.06e-03\n",
      "5+5:\t3.47e-04\n",
      "10+1:\t1.73e-02\n",
      "10+3:\t1.63e-02\n",
      "10+5:\t1.37e-02\n",
      "15+1:\t1.78e-02\n",
      "15+3:\t1.76e-02\n",
      "15+5:\t1.61e-02\n"
     ]
    }
   ],
   "source": [
    "apply_mi_over_len_grid(load_belousov_zhabotinsky_time_series(), project_on_coordinate=1)"
   ]
  },
  {
   "cell_type": "code",
   "execution_count": 23,
   "id": "b74336fa",
   "metadata": {},
   "outputs": [
    {
     "name": "stdout",
     "output_type": "stream",
     "text": [
      "window+target: (backward - forward) / forward\n",
      "3+1:\t-5.07e-03\n",
      "3+3:\t1.00e-04\n",
      "3+5:\t2.89e-03\n",
      "5+1:\t-8.53e-03\n",
      "5+3:\t-3.92e-03\n",
      "5+5:\t-3.39e-04\n",
      "10+1:\t1.36e-02\n",
      "10+3:\t2.63e-02\n",
      "10+5:\t3.16e-02\n",
      "15+1:\t1.24e-02\n",
      "15+3:\t2.30e-02\n",
      "15+5:\t2.82e-02\n"
     ]
    }
   ],
   "source": [
    "apply_mi_over_len_grid(load_belousov_zhabotinsky_time_series(), project_on_coordinate=2)"
   ]
  }
 ],
 "metadata": {
  "kernelspec": {
   "display_name": "venv",
   "language": "python",
   "name": "venv"
  },
  "language_info": {
   "codemirror_mode": {
    "name": "ipython",
    "version": 3
   },
   "file_extension": ".py",
   "mimetype": "text/x-python",
   "name": "python",
   "nbconvert_exporter": "python",
   "pygments_lexer": "ipython3",
   "version": "3.10.10"
  }
 },
 "nbformat": 4,
 "nbformat_minor": 5
}
