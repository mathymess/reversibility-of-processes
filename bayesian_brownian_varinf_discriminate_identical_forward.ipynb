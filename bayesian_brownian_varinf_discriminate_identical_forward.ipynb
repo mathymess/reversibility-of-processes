{
 "cells": [
  {
   "cell_type": "markdown",
   "id": "5a5400a4-e6dc-45ed-8e27-9f1322060595",
   "metadata": {},
   "source": [
    "# We vary the capacity of the Bayesian model by changing `hidden_size` parameter, trying to predict the brownian trajectories. We hope to see that, as the size of the model grows, it tends to overfit and detects difference between two very similar datasets, both of a brownian particle moving \"forward\", when we'd expect to see no difference."
   ]
  },
  {
   "cell_type": "code",
   "execution_count": null,
   "id": "3b93d07f-e1dc-4748-aaba-1e4434952526",
   "metadata": {},
   "outputs": [],
   "source": [
    "import os\n",
    "\n",
    "import matplotlib.pyplot as plt\n",
    "import numpy as np\n",
    "import torch"
   ]
  },
  {
   "cell_type": "code",
   "execution_count": null,
   "id": "1b335f31-2024-4c93-b444-cf43a4798508",
   "metadata": {},
   "outputs": [],
   "source": [
    "from brownian_datagen import BrownianDatagen, create_dataholder_forward_same_as_backward\n",
    "from bayesian_varinf import train_fb_n_times, load_learning_curves"
   ]
  },
  {
   "cell_type": "code",
   "execution_count": null,
   "id": "966aee68-7a63-47e0-999d-18d870583cb8",
   "metadata": {
    "scrolled": true
   },
   "outputs": [],
   "source": [
    "def get_save_dir_prefix(hidden_size: int) -> str:\n",
    "    save_dir_prefix = \"20230724_preds/brownian_varinf_discriminate_identical_nonoise/\"\n",
    "    return os.path.join(save_dir_prefix, f\"hidden_size={hidden_size:02}/\")"
   ]
  },
  {
   "cell_type": "code",
   "execution_count": null,
   "id": "c7b52ce4-ee26-4f7b-a758-1e2406e73578",
   "metadata": {},
   "outputs": [],
   "source": [
    "brownian = BrownianDatagen(kBT=0.03, γ=1., k=1., λ_τ=5., τ=10.)\n",
    "dt = create_dataholder_forward_same_as_backward(brownian, numParticles=50,\n",
    "                                                rng_seed1=42, rng_seed2=43)\n",
    "brownian.visualize()"
   ]
  },
  {
   "cell_type": "code",
   "execution_count": null,
   "id": "5e4a434b-3ed3-4b7f-8cc6-6d2a939e3617",
   "metadata": {},
   "outputs": [],
   "source": [
    "for hidden_size in (16, 8, 4):\n",
    "    save_dir_prefix = get_save_dir_prefix(hidden_size)\n",
    "    if not os.path.isdir(save_dir_prefix):\n",
    "        train_fb_n_times(dt,\n",
    "            num_runs=100,\n",
    "            hidden_size=hidden_size,\n",
    "            num_epochs=4000,\n",
    "            save_metrics_every_n_epochs=100,\n",
    "            train_test_split_ratio=None,\n",
    "            save_dir_prefix=save_dir_prefix,\n",
    "            torch_device=\"cuda:0\" if torch.cuda.is_available() else None)\n",
    "    else:\n",
    "        print(f\"Directory '{save_dir_prefix}' exists, assuming the previous results are reusable\")"
   ]
  },
  {
   "cell_type": "markdown",
   "id": "6e47d9ad-90f2-4ed2-b8e1-81b985c91105",
   "metadata": {},
   "source": [
    "## Same but with much more noise"
   ]
  },
  {
   "cell_type": "code",
   "execution_count": null,
   "id": "1125a45e-ec5e-4ebc-b3d1-74b0a1d92755",
   "metadata": {
    "scrolled": true
   },
   "outputs": [],
   "source": [
    "def get_save_dir_prefix(hidden_size: int) -> str:\n",
    "    save_dir_prefix = \"20230724_preds/brownian_varinf_discriminate_identical_noisy/\"\n",
    "    return os.path.join(save_dir_prefix, f\"hidden_size={hidden_size:02}/\")"
   ]
  },
  {
   "cell_type": "code",
   "execution_count": null,
   "id": "7706c3af-3873-456d-833b-2271e299c820",
   "metadata": {},
   "outputs": [],
   "source": [
    "brownian = BrownianDatagen(kBT=1., γ=1., k=1., λ_τ=5., τ=10.)\n",
    "dt = create_dataholder_forward_same_as_backward(brownian, numParticles=50,\n",
    "                                                rng_seed1=42, rng_seed2=43)\n",
    "brownian.visualize()"
   ]
  },
  {
   "cell_type": "code",
   "execution_count": null,
   "id": "b7de1fca-07b7-40de-8fcb-b6ba495b5901",
   "metadata": {},
   "outputs": [],
   "source": [
    "for hidden_size in (16, 8, 4):\n",
    "    save_dir_prefix = get_save_dir_prefix(hidden_size)\n",
    "    if not os.path.isdir(save_dir_prefix):\n",
    "        train_fb_n_times(dt,\n",
    "            num_runs=100,\n",
    "            hidden_size=hidden_size,\n",
    "            num_epochs=4000,\n",
    "            save_metrics_every_n_epochs=100,\n",
    "            train_test_split_ratio=None,\n",
    "            save_dir_prefix=save_dir_prefix,\n",
    "            torch_device=\"cuda:0\" if torch.cuda.is_available() else None)\n",
    "    else:\n",
    "        print(f\"Directory '{save_dir_prefix}' exists, assuming the previous results are reusable\")"
   ]
  }
 ],
 "metadata": {
  "kernelspec": {
   "display_name": "venv",
   "language": "python",
   "name": "venv"
  },
  "language_info": {
   "codemirror_mode": {
    "name": "ipython",
    "version": 3
   },
   "file_extension": ".py",
   "mimetype": "text/x-python",
   "name": "python",
   "nbconvert_exporter": "python",
   "pygments_lexer": "ipython3",
   "version": "3.11.5"
  }
 },
 "nbformat": 4,
 "nbformat_minor": 5
}
